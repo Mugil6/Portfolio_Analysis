{
 "cells": [
  {
   "cell_type": "code",
   "execution_count": 1,
   "id": "c2bf9283",
   "metadata": {},
   "outputs": [
    {
     "name": "stdout",
     "output_type": "stream",
     "text": [
      "Annualized Return of Combined Index: 0.2579046851176012\n",
      "Annualized Risk (Std Dev): 0.17780298959219457\n"
     ]
    }
   ],
   "source": [
    "import pandas as pd\n",
    "import numpy as np\n",
    "\n",
    "df = pd.read_excel(\"proj_data.xlsx\")\n",
    "\n",
    "\n",
    "weights = np.array([0.1] * 10)\n",
    "\n",
    "combined_return = df.dot(weights)\n",
    "daily_mean_return = combined_return.mean()\n",
    "daily_std_dev = combined_return.std()\n",
    "\n",
    "annual_return = daily_mean_return * 252\n",
    "annual_risk = daily_std_dev * np.sqrt(252)\n",
    "\n",
    "print(\"Annualized Return of Combined Index:\", annual_return)\n",
    "print(\"Annualized Risk (Std Dev):\", annual_risk)\n"
   ]
  }
 ],
 "metadata": {
  "kernelspec": {
   "display_name": "Python 3",
   "language": "python",
   "name": "python3"
  },
  "language_info": {
   "codemirror_mode": {
    "name": "ipython",
    "version": 3
   },
   "file_extension": ".py",
   "mimetype": "text/x-python",
   "name": "python",
   "nbconvert_exporter": "python",
   "pygments_lexer": "ipython3",
   "version": "3.11.9"
  }
 },
 "nbformat": 4,
 "nbformat_minor": 5
}
